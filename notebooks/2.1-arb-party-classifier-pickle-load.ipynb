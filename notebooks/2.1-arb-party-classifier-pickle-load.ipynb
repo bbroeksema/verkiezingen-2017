{
 "cells": [
  {
   "cell_type": "code",
   "execution_count": 1,
   "metadata": {
    "collapsed": true
   },
   "outputs": [],
   "source": [
    "import sys\n",
    "sys.path.append('../')\n",
    "from src.models import *"
   ]
  },
  {
   "cell_type": "code",
   "execution_count": 2,
   "metadata": {
    "collapsed": false
   },
   "outputs": [],
   "source": [
    "import dill\n",
    "import pickle\n",
    "\n",
    "estimator = PartyClassifier()\n",
    "estimator = pickle.load(open( '../models/PartyClassifier.pkl', \"rb\" ))"
   ]
  },
  {
   "cell_type": "code",
   "execution_count": 3,
   "metadata": {
    "collapsed": false
   },
   "outputs": [
    {
     "data": {
      "text/plain": [
       "array([[ 0.05189134,  0.14575099,  0.05777534,  0.01000474,  0.00636349,\n",
       "         0.02630005,  0.00752054,  0.01866604,  0.02627023,  0.00829618,\n",
       "         0.01120394,  0.00686594,  0.03809423,  0.0420964 ,  0.30003534,\n",
       "         0.01834585,  0.01418364,  0.05961223,  0.02294081,  0.02092981,\n",
       "         0.00734366,  0.02919525,  0.07031398]])"
      ]
     },
     "execution_count": 3,
     "metadata": {},
     "output_type": "execute_result"
    }
   ],
   "source": [
    "estimator.predict(['uitkering tegenprestatie'])"
   ]
  },
  {
   "cell_type": "code",
   "execution_count": null,
   "metadata": {
    "collapsed": true
   },
   "outputs": [],
   "source": []
  }
 ],
 "metadata": {
  "kernelspec": {
   "display_name": "Python [data-science]",
   "language": "python",
   "name": "Python [data-science]"
  },
  "language_info": {
   "codemirror_mode": {
    "name": "ipython",
    "version": 2
   },
   "file_extension": ".py",
   "mimetype": "text/x-python",
   "name": "python",
   "nbconvert_exporter": "python",
   "pygments_lexer": "ipython2",
   "version": "2.7.12"
  }
 },
 "nbformat": 4,
 "nbformat_minor": 0
}
