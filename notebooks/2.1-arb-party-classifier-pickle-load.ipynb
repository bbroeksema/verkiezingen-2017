{
 "cells": [
  {
   "cell_type": "code",
   "execution_count": 3,
   "metadata": {
    "collapsed": true
   },
   "outputs": [],
   "source": [
    "import sys\n",
    "sys.path.append('../')\n",
    "from src.models import *"
   ]
  },
  {
   "cell_type": "code",
   "execution_count": 5,
   "metadata": {
    "collapsed": false
   },
   "outputs": [],
   "source": [
    "import dill\n",
    "import pickle\n",
    "\n",
    "estimator = PartyClassifier()\n",
    "estimator = pickle.load(open( '../models/20170216_PartyClassifier.pkl', \"rb\" ))"
   ]
  },
  {
   "cell_type": "code",
   "execution_count": 6,
   "metadata": {
    "collapsed": false
   },
   "outputs": [
    {
     "data": {
      "text/plain": [
       "array([[ 0.04414754,  0.05133943,  0.05503882,  0.04290066,  0.02975303,\n",
       "         0.04459762,  0.04868087,  0.02932477,  0.04131352,  0.02746823,\n",
       "         0.03960004,  0.04113144,  0.04052625,  0.05275223,  0.04569884,\n",
       "         0.03860737,  0.05767506,  0.04999925,  0.03873991,  0.04452279,\n",
       "         0.02740847,  0.05547933,  0.05329452]])"
      ]
     },
     "execution_count": 6,
     "metadata": {},
     "output_type": "execute_result"
    }
   ],
   "source": [
    "pred = estimator.predict(['uitkering tegenprestatie'])\n",
    "pred"
   ]
  },
  {
   "cell_type": "code",
   "execution_count": 7,
   "metadata": {
    "collapsed": false
   },
   "outputs": [
    {
     "data": {
      "text/html": [
       "<div>\n",
       "<table border=\"1\" class=\"dataframe\">\n",
       "  <thead>\n",
       "    <tr style=\"text-align: right;\">\n",
       "      <th></th>\n",
       "      <th>PVDA</th>\n",
       "      <th>SGP</th>\n",
       "      <th>Ondernemerspartij</th>\n",
       "      <th>Libertarische Partij</th>\n",
       "      <th>Lokaal in de Kamer</th>\n",
       "      <th>Groenlinks</th>\n",
       "      <th>PVV</th>\n",
       "      <th>VoorNederland</th>\n",
       "      <th>Piratenpartij</th>\n",
       "      <th>DENK</th>\n",
       "      <th>...</th>\n",
       "      <th>50PLUS</th>\n",
       "      <th>VVD</th>\n",
       "      <th>Partij voor de Dieren</th>\n",
       "      <th>MenS en Spirit/Basisinkomen Partij/V</th>\n",
       "      <th>ChristenUnie</th>\n",
       "      <th>SP</th>\n",
       "      <th>NIEUWE WEGEN</th>\n",
       "      <th>JEZEUS LEEFT</th>\n",
       "      <th>Vrijzinnige Partij</th>\n",
       "      <th>Forum voor Democratie</th>\n",
       "    </tr>\n",
       "  </thead>\n",
       "  <tbody>\n",
       "    <tr>\n",
       "      <th>0</th>\n",
       "      <td>0.044148</td>\n",
       "      <td>0.051339</td>\n",
       "      <td>0.055039</td>\n",
       "      <td>0.042901</td>\n",
       "      <td>0.029753</td>\n",
       "      <td>0.044598</td>\n",
       "      <td>0.048681</td>\n",
       "      <td>0.029325</td>\n",
       "      <td>0.041314</td>\n",
       "      <td>0.027468</td>\n",
       "      <td>...</td>\n",
       "      <td>0.052752</td>\n",
       "      <td>0.045699</td>\n",
       "      <td>0.038607</td>\n",
       "      <td>0.057675</td>\n",
       "      <td>0.049999</td>\n",
       "      <td>0.03874</td>\n",
       "      <td>0.044523</td>\n",
       "      <td>0.027408</td>\n",
       "      <td>0.055479</td>\n",
       "      <td>0.053295</td>\n",
       "    </tr>\n",
       "  </tbody>\n",
       "</table>\n",
       "<p>1 rows × 23 columns</p>\n",
       "</div>"
      ],
      "text/plain": [
       "       PVDA       SGP  Ondernemerspartij  Libertarische Partij  \\\n",
       "0  0.044148  0.051339           0.055039              0.042901   \n",
       "\n",
       "   Lokaal in de Kamer  Groenlinks       PVV  VoorNederland  Piratenpartij  \\\n",
       "0            0.029753    0.044598  0.048681       0.029325       0.041314   \n",
       "\n",
       "       DENK          ...              50PLUS       VVD  Partij voor de Dieren  \\\n",
       "0  0.027468          ...            0.052752  0.045699               0.038607   \n",
       "\n",
       "   MenS en Spirit/Basisinkomen Partij/V  ChristenUnie       SP  NIEUWE WEGEN  \\\n",
       "0                              0.057675      0.049999  0.03874      0.044523   \n",
       "\n",
       "   JEZEUS LEEFT  Vrijzinnige Partij  Forum voor Democratie  \n",
       "0      0.027408            0.055479               0.053295  \n",
       "\n",
       "[1 rows x 23 columns]"
      ]
     },
     "execution_count": 7,
     "metadata": {},
     "output_type": "execute_result"
    }
   ],
   "source": [
    "import pandas as pd\n",
    "pd.DataFrame(pred, columns=estimator.y_labels)"
   ]
  },
  {
   "cell_type": "code",
   "execution_count": null,
   "metadata": {
    "collapsed": true
   },
   "outputs": [],
   "source": []
  }
 ],
 "metadata": {
  "kernelspec": {
   "display_name": "Python [data-science]",
   "language": "python",
   "name": "Python [data-science]"
  },
  "language_info": {
   "codemirror_mode": {
    "name": "ipython",
    "version": 2
   },
   "file_extension": ".py",
   "mimetype": "text/x-python",
   "name": "python",
   "nbconvert_exporter": "python",
   "pygments_lexer": "ipython2",
   "version": "2.7.12"
  }
 },
 "nbformat": 4,
 "nbformat_minor": 0
}
