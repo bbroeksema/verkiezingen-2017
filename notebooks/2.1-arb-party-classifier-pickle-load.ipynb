{
 "cells": [
  {
   "cell_type": "code",
   "execution_count": 18,
   "metadata": {
    "collapsed": false
   },
   "outputs": [
    {
     "name": "stdout",
     "output_type": "stream",
     "text": [
      "The autoreload extension is already loaded. To reload it, use:\n",
      "  %reload_ext autoreload\n"
     ]
    }
   ],
   "source": [
    "import sys\n",
    "sys.path.append('../')\n",
    "from src.models import *\n",
    "sys.modules['models'] = sys.modules['src.models']\n",
    "\n",
    "# module loading settings\n",
    "%load_ext autoreload\n",
    "%autoreload 2"
   ]
  },
  {
   "cell_type": "code",
   "execution_count": 19,
   "metadata": {
    "collapsed": false
   },
   "outputs": [],
   "source": [
    "import dill\n",
    "import pickle\n",
    "\n",
    "estimator = PartyClassifier()\n",
    "estimator = pickle.load(open( '../models/PartyClassifier.pkl', \"rb\" ))"
   ]
  },
  {
   "cell_type": "code",
   "execution_count": 23,
   "metadata": {
    "collapsed": false
   },
   "outputs": [
    {
     "data": {
      "text/plain": [
       "array([[ 0.04347826,  0.04347826,  0.04347826,  0.04347826,  0.04347826,\n",
       "         0.04347826,  0.04347826,  0.04347826,  0.04347826,  0.04347826,\n",
       "         0.04347826,  0.04347826,  0.04347826,  0.04347826,  0.04347826,\n",
       "         0.04347826,  0.04347826,  0.04347826,  0.04347826,  0.04347826,\n",
       "         0.04347826,  0.04347826,  0.04347826]])"
      ]
     },
     "execution_count": 23,
     "metadata": {},
     "output_type": "execute_result"
    }
   ],
   "source": [
    "pred = estimator.predict(['pannenkoeken'])\n",
    "pred"
   ]
  },
  {
   "cell_type": "code",
   "execution_count": 21,
   "metadata": {
    "collapsed": false
   },
   "outputs": [
    {
     "data": {
      "text/plain": [
       "array([[ 0.04451024,  0.05543152,  0.04770827,  0.04344053,  0.0234563 ,\n",
       "         0.04145255,  0.05067255,  0.03616247,  0.03814178,  0.03063944,\n",
       "         0.03504169,  0.03838877,  0.03790241,  0.05623008,  0.04989823,\n",
       "         0.04193132,  0.06615328,  0.04499388,  0.03647401,  0.04276982,\n",
       "         0.02750473,  0.0494373 ,  0.06165885]])"
      ]
     },
     "execution_count": 21,
     "metadata": {},
     "output_type": "execute_result"
    }
   ],
   "source": [
    "pred = estimator.predict(['uitkering tegenprestatie'])\n",
    "pred"
   ]
  },
  {
   "cell_type": "code",
   "execution_count": 22,
   "metadata": {
    "collapsed": false
   },
   "outputs": [
    {
     "data": {
      "text/html": [
       "<div>\n",
       "<table border=\"1\" class=\"dataframe\">\n",
       "  <thead>\n",
       "    <tr style=\"text-align: right;\">\n",
       "      <th></th>\n",
       "      <th>PVDA</th>\n",
       "      <th>SGP</th>\n",
       "      <th>Ondernemerspartij</th>\n",
       "      <th>Libertarische Partij</th>\n",
       "      <th>Lokaal in de Kamer</th>\n",
       "      <th>Groenlinks</th>\n",
       "      <th>PVV</th>\n",
       "      <th>VoorNederland</th>\n",
       "      <th>Piratenpartij</th>\n",
       "      <th>DENK</th>\n",
       "      <th>...</th>\n",
       "      <th>50PLUS</th>\n",
       "      <th>VVD</th>\n",
       "      <th>Partij voor de Dieren</th>\n",
       "      <th>MenS en Spirit/Basisinkomen Partij/V</th>\n",
       "      <th>ChristenUnie</th>\n",
       "      <th>SP</th>\n",
       "      <th>NIEUWE WEGEN</th>\n",
       "      <th>JEZUS LEEFT</th>\n",
       "      <th>Vrijzinnige Partij</th>\n",
       "      <th>Forum voor Democratie</th>\n",
       "    </tr>\n",
       "  </thead>\n",
       "  <tbody>\n",
       "    <tr>\n",
       "      <th>0</th>\n",
       "      <td>0.04451</td>\n",
       "      <td>0.055432</td>\n",
       "      <td>0.047708</td>\n",
       "      <td>0.043441</td>\n",
       "      <td>0.023456</td>\n",
       "      <td>0.041453</td>\n",
       "      <td>0.050673</td>\n",
       "      <td>0.036162</td>\n",
       "      <td>0.038142</td>\n",
       "      <td>0.030639</td>\n",
       "      <td>...</td>\n",
       "      <td>0.05623</td>\n",
       "      <td>0.049898</td>\n",
       "      <td>0.041931</td>\n",
       "      <td>0.066153</td>\n",
       "      <td>0.044994</td>\n",
       "      <td>0.036474</td>\n",
       "      <td>0.04277</td>\n",
       "      <td>0.027505</td>\n",
       "      <td>0.049437</td>\n",
       "      <td>0.061659</td>\n",
       "    </tr>\n",
       "  </tbody>\n",
       "</table>\n",
       "<p>1 rows × 23 columns</p>\n",
       "</div>"
      ],
      "text/plain": [
       "      PVDA       SGP  Ondernemerspartij  Libertarische Partij  \\\n",
       "0  0.04451  0.055432           0.047708              0.043441   \n",
       "\n",
       "   Lokaal in de Kamer  Groenlinks       PVV  VoorNederland  Piratenpartij  \\\n",
       "0            0.023456    0.041453  0.050673       0.036162       0.038142   \n",
       "\n",
       "       DENK          ...             50PLUS       VVD  Partij voor de Dieren  \\\n",
       "0  0.030639          ...            0.05623  0.049898               0.041931   \n",
       "\n",
       "   MenS en Spirit/Basisinkomen Partij/V  ChristenUnie        SP  NIEUWE WEGEN  \\\n",
       "0                              0.066153      0.044994  0.036474       0.04277   \n",
       "\n",
       "   JEZUS LEEFT  Vrijzinnige Partij  Forum voor Democratie  \n",
       "0     0.027505            0.049437               0.061659  \n",
       "\n",
       "[1 rows x 23 columns]"
      ]
     },
     "execution_count": 22,
     "metadata": {},
     "output_type": "execute_result"
    }
   ],
   "source": [
    "import pandas as pd\n",
    "pd.DataFrame(pred, columns=estimator.y_labels)"
   ]
  },
  {
   "cell_type": "code",
   "execution_count": null,
   "metadata": {
    "collapsed": true
   },
   "outputs": [],
   "source": []
  }
 ],
 "metadata": {
  "kernelspec": {
   "display_name": "Python [data-science]",
   "language": "python",
   "name": "Python [data-science]"
  },
  "language_info": {
   "codemirror_mode": {
    "name": "ipython",
    "version": 2
   },
   "file_extension": ".py",
   "mimetype": "text/x-python",
   "name": "python",
   "nbconvert_exporter": "python",
   "pygments_lexer": "ipython2",
   "version": "2.7.12"
  }
 },
 "nbformat": 4,
 "nbformat_minor": 0
}
