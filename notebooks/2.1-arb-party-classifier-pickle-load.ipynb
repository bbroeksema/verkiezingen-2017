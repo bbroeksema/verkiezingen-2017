{
 "cells": [
  {
   "cell_type": "code",
   "execution_count": 2,
   "metadata": {
    "collapsed": true
   },
   "outputs": [],
   "source": [
    "import sys\n",
    "sys.path.append('../')\n",
    "from src.models import *"
   ]
  },
  {
   "cell_type": "code",
   "execution_count": 3,
   "metadata": {
    "collapsed": false
   },
   "outputs": [],
   "source": [
    "import dill\n",
    "import pickle\n",
    "\n",
    "estimator = PartyClassifier()\n",
    "estimator = pickle.load(open( '../models/PartyClassifier.pkl', \"rb\" ))"
   ]
  },
  {
   "cell_type": "code",
   "execution_count": 12,
   "metadata": {
    "collapsed": false
   },
   "outputs": [
    {
     "data": {
      "text/plain": [
       "array([[ 0.05189134,  0.14575099,  0.05777534,  0.01000474,  0.00636349,\n",
       "         0.02630005,  0.00752054,  0.01866604,  0.02627023,  0.00829618,\n",
       "         0.01120394,  0.00686594,  0.03809423,  0.0420964 ,  0.30003534,\n",
       "         0.01834585,  0.01418364,  0.05961223,  0.02294081,  0.02092981,\n",
       "         0.00734366,  0.02919525,  0.07031398]])"
      ]
     },
     "execution_count": 12,
     "metadata": {},
     "output_type": "execute_result"
    }
   ],
   "source": [
    "pred = estimator.predict(['uitkering tegenprestatie'])\n",
    "pred"
   ]
  },
  {
   "cell_type": "code",
   "execution_count": 13,
   "metadata": {
    "collapsed": false
   },
   "outputs": [
    {
     "data": {
      "text/html": [
       "<div>\n",
       "<table border=\"1\" class=\"dataframe\">\n",
       "  <thead>\n",
       "    <tr style=\"text-align: right;\">\n",
       "      <th>party</th>\n",
       "      <th>PVDA</th>\n",
       "      <th>SGP</th>\n",
       "      <th>Ondernemerspartij</th>\n",
       "      <th>Libertarische Partij</th>\n",
       "      <th>Lokaal in de Kamer</th>\n",
       "      <th>Groenlinks</th>\n",
       "      <th>PVV</th>\n",
       "      <th>VoorNederland</th>\n",
       "      <th>Piratenpartij</th>\n",
       "      <th>DENK</th>\n",
       "      <th>...</th>\n",
       "      <th>50PLUS</th>\n",
       "      <th>VVD</th>\n",
       "      <th>Partij voor de Dieren</th>\n",
       "      <th>MenS en Spirit/Basisinkomen Partij/V</th>\n",
       "      <th>ChristenUnie</th>\n",
       "      <th>SP</th>\n",
       "      <th>NIEUWE WEGEN</th>\n",
       "      <th>JEZEUS LEEFT</th>\n",
       "      <th>Vrijzinnige Partij</th>\n",
       "      <th>Forum voor Democratie</th>\n",
       "    </tr>\n",
       "  </thead>\n",
       "  <tbody>\n",
       "    <tr>\n",
       "      <th>0</th>\n",
       "      <td>0.051891</td>\n",
       "      <td>0.145751</td>\n",
       "      <td>0.057775</td>\n",
       "      <td>0.010005</td>\n",
       "      <td>0.006363</td>\n",
       "      <td>0.0263</td>\n",
       "      <td>0.007521</td>\n",
       "      <td>0.018666</td>\n",
       "      <td>0.02627</td>\n",
       "      <td>0.008296</td>\n",
       "      <td>...</td>\n",
       "      <td>0.042096</td>\n",
       "      <td>0.300035</td>\n",
       "      <td>0.018346</td>\n",
       "      <td>0.014184</td>\n",
       "      <td>0.059612</td>\n",
       "      <td>0.022941</td>\n",
       "      <td>0.02093</td>\n",
       "      <td>0.007344</td>\n",
       "      <td>0.029195</td>\n",
       "      <td>0.070314</td>\n",
       "    </tr>\n",
       "  </tbody>\n",
       "</table>\n",
       "<p>1 rows × 23 columns</p>\n",
       "</div>"
      ],
      "text/plain": [
       "party      PVDA       SGP  Ondernemerspartij  Libertarische Partij  \\\n",
       "0      0.051891  0.145751           0.057775              0.010005   \n",
       "\n",
       "party  Lokaal in de Kamer  Groenlinks       PVV  VoorNederland  Piratenpartij  \\\n",
       "0                0.006363      0.0263  0.007521       0.018666        0.02627   \n",
       "\n",
       "party      DENK          ...              50PLUS       VVD  \\\n",
       "0      0.008296          ...            0.042096  0.300035   \n",
       "\n",
       "party  Partij voor de Dieren  MenS en Spirit/Basisinkomen Partij/V  \\\n",
       "0                   0.018346                              0.014184   \n",
       "\n",
       "party  ChristenUnie        SP  NIEUWE WEGEN  JEZEUS LEEFT  Vrijzinnige Partij  \\\n",
       "0          0.059612  0.022941       0.02093      0.007344            0.029195   \n",
       "\n",
       "party  Forum voor Democratie  \n",
       "0                   0.070314  \n",
       "\n",
       "[1 rows x 23 columns]"
      ]
     },
     "execution_count": 13,
     "metadata": {},
     "output_type": "execute_result"
    }
   ],
   "source": [
    "import pandas as pd\n",
    "pd.DataFrame(pred, columns=estimator.y_labels)"
   ]
  },
  {
   "cell_type": "code",
   "execution_count": null,
   "metadata": {
    "collapsed": true
   },
   "outputs": [],
   "source": []
  }
 ],
 "metadata": {
  "kernelspec": {
   "display_name": "Python [data-science]",
   "language": "python",
   "name": "Python [data-science]"
  },
  "language_info": {
   "codemirror_mode": {
    "name": "ipython",
    "version": 2
   },
   "file_extension": ".py",
   "mimetype": "text/x-python",
   "name": "python",
   "nbconvert_exporter": "python",
   "pygments_lexer": "ipython2",
   "version": "2.7.12"
  }
 },
 "nbformat": 4,
 "nbformat_minor": 0
}
