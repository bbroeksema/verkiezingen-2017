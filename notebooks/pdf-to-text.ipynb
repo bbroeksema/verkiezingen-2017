{
 "cells": [
  {
   "cell_type": "code",
   "execution_count": 7,
   "metadata": {
    "collapsed": false,
    "deletable": true,
    "editable": true
   },
   "outputs": [
    {
     "name": "stdout",
     "output_type": "stream",
     "text": [
      "Succesfully parsed ../data/lijst-04-programma.pdf\n",
      "Succesfully parsed ../data/lijst-23-programma.pdf\n",
      "Succesfully parsed ../data/lijst-15-programma.pdf\n",
      "Succesfully parsed ../data/lijst-24-programma.pdf\n",
      "Succesfully parsed ../data/lijst-13-programma.pdf\n",
      "Succesfully parsed ../data/lijst-12-programma.pdf\n",
      "Succesfully parsed ../data/lijst-11-programma.pdf\n",
      "Succesfully parsed ../data/lijst-06-programma.pdf\n",
      "Succesfully parsed ../data/lijst-02-programma..pdf\n",
      "Succesfully parsed ../data/lijst-09-programma.pdf\n",
      "Succesfully parsed ../data/lijst-16-programma.pdf\n",
      "Succesfully parsed ../data/lijst-18-programma.pdf\n",
      "Succesfully parsed ../data/lijst-07-programma.pdf\n",
      "Succesfully parsed ../data/lijst-14-programma.pdf\n",
      "Succesfully parsed ../data/lijst-05-programma.pdf\n",
      "Succesfully parsed ../data/lijst-01-programma..pdf\n",
      "Succesfully parsed ../data/lijst-03-programma..pdf\n",
      "Succesfully parsed ../data/lijst-10-programma.pdf\n",
      "Succesfully parsed ../data/lijst-20-programma.pdf\n",
      "Succesfully parsed ../data/lijst-17-programma.pdf\n",
      "Succesfully parsed ../data/lijst-08-programma.pdf\n",
      "Succesfully parsed ../data/lijst-25-programma.pdf\n",
      "Succesfully parsed ../data/lijst-27-programma.pdf\n"
     ]
    }
   ],
   "source": [
    "import glob\n",
    "from textract import process\n",
    "\n",
    "programs = glob.glob(\"../data/*.pdf\")\n",
    "\n",
    "for program in programs:\n",
    "    try:\n",
    "        text = process(program)\n",
    "    except TypeError:\n",
    "        print \"Could not parse {}\".format(program)\n",
    "        pass\n",
    "    \n",
    "    if text is not None:\n",
    "        print \"Succesfully parsed \" + program"
   ]
  },
  {
   "cell_type": "code",
   "execution_count": null,
   "metadata": {
    "collapsed": true
   },
   "outputs": [],
   "source": []
  }
 ],
 "metadata": {
  "kernelspec": {
   "display_name": "Python 2",
   "language": "python",
   "name": "python2"
  },
  "language_info": {
   "codemirror_mode": {
    "name": "ipython",
    "version": 2
   },
   "file_extension": ".py",
   "mimetype": "text/x-python",
   "name": "python",
   "nbconvert_exporter": "python",
   "pygments_lexer": "ipython2",
   "version": "2.7.12"
  }
 },
 "nbformat": 4,
 "nbformat_minor": 0
}
