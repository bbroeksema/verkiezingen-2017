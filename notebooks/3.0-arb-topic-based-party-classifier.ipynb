{
 "cells": [
  {
   "cell_type": "code",
   "execution_count": 1,
   "metadata": {
    "collapsed": true
   },
   "outputs": [],
   "source": [
    "import sys\n",
    "sys.path.append('../')\n",
    "import pandas as pd\n",
    "import numpy as np"
   ]
  },
  {
   "cell_type": "code",
   "execution_count": 2,
   "metadata": {
    "collapsed": false
   },
   "outputs": [
    {
     "name": "stdout",
     "output_type": "stream",
     "text": [
      "4897 text snippets\n",
      "2931367 charachters in corpus\n",
      "418936 words in corpus\n"
     ]
    },
    {
     "data": {
      "text/html": [
       "<div>\n",
       "<table border=\"1\" class=\"dataframe\">\n",
       "  <thead>\n",
       "    <tr style=\"text-align: right;\">\n",
       "      <th></th>\n",
       "      <th>party</th>\n",
       "      <th>snippet</th>\n",
       "      <th>text</th>\n",
       "    </tr>\n",
       "  </thead>\n",
       "  <tbody>\n",
       "    <tr>\n",
       "      <th>0</th>\n",
       "      <td>0</td>\n",
       "      <td>0</td>\n",
       "      <td>n e d n o b r e v n ee g n i v e l sa m e n ve...</td>\n",
       "    </tr>\n",
       "    <tr>\n",
       "      <th>1</th>\n",
       "      <td>0</td>\n",
       "      <td>1</td>\n",
       "      <td>twerp  paul pollmann   inhoudsopgave essay  ee...</td>\n",
       "    </tr>\n",
       "    <tr>\n",
       "      <th>2</th>\n",
       "      <td>0</td>\n",
       "      <td>2</td>\n",
       "      <td>rismebestrijding privacy justitie en rechtstaa...</td>\n",
       "    </tr>\n",
       "    <tr>\n",
       "      <th>3</th>\n",
       "      <td>0</td>\n",
       "      <td>3</td>\n",
       "      <td>ing werk en gezin pensioenen werkende ouderen ...</td>\n",
       "    </tr>\n",
       "    <tr>\n",
       "      <th>4</th>\n",
       "      <td>0</td>\n",
       "      <td>4</td>\n",
       "      <td>iedereen publieke waarden centraal  van marktw...</td>\n",
       "    </tr>\n",
       "  </tbody>\n",
       "</table>\n",
       "</div>"
      ],
      "text/plain": [
       "   party  snippet                                               text\n",
       "0      0        0  n e d n o b r e v n ee g n i v e l sa m e n ve...\n",
       "1      0        1  twerp  paul pollmann   inhoudsopgave essay  ee...\n",
       "2      0        2  rismebestrijding privacy justitie en rechtstaa...\n",
       "3      0        3  ing werk en gezin pensioenen werkende ouderen ...\n",
       "4      0        4  iedereen publieke waarden centraal  van marktw..."
      ]
     },
     "execution_count": 2,
     "metadata": {},
     "output_type": "execute_result"
    }
   ],
   "source": [
    "import json\n",
    "from nltk import word_tokenize\n",
    "\n",
    "with open('../data/partijen-metadata.json', 'r') as f:\n",
    "     meta = json.load(f)\n",
    "\n",
    "party_dict = {}\n",
    "for party_data in meta['partijen']:\n",
    "    party_id = party_data['lijst']\n",
    "    party_name = party_data['naam'].encode('utf-8')\n",
    "    party_dict[\"{:02d}\".format(party_id)] = party_name\n",
    "    \n",
    "raw = pd.read_csv('../data/processed/dataframe.csv') \n",
    "raw['file'] = raw['file'].replace(to_replace=party_dict, regex=True).apply(lambda x: x.split('-')[1])\n",
    "raw.rename(columns={'file': 'party'}, inplace=True)\n",
    "\n",
    "party_labels = raw['party']\n",
    "n_parties = len(party_labels)\n",
    "\n",
    "def chunk_string(string, length):\n",
    "    return [string[0+i:length+i] for i in range(0, len(string), length)]\n",
    "\n",
    "df = raw['text'].apply(lambda x: pd.Series(chunk_string(x, length=600))).stack().reset_index()\n",
    "df.rename(columns={0: 'text', 'level_0': 'party', 'level_1': 'snippet'}, inplace=True)\n",
    "\n",
    "print \"{:d} text snippets\".format(len(df))\n",
    "print \"{:d} charachters in corpus\".format(df['text'].apply(len).sum())\n",
    "print \"{:d} words in corpus\".format(df['text'].apply(lambda x: word_tokenize(x, language='dutch')).apply(len).sum())\n",
    "df.head()"
   ]
  },
  {
   "cell_type": "code",
   "execution_count": 15,
   "metadata": {
    "collapsed": false
   },
   "outputs": [
    {
     "name": "stdout",
     "output_type": "stream",
     "text": [
      "Average dummy classifier score: 0.1388 \n",
      "Average nb classifier score: 0.3748 \n",
      "Average lr classifier score: 0.5136 \n",
      "Average rf classifier score: 0.4463 \n"
     ]
    },
    {
     "data": {
      "text/plain": [
       "Pipeline(steps=[('vectorizer', TfidfVectorizer(analyzer='word', binary=False, decode_error='strict',\n",
       "        dtype=<type 'numpy.int64'>, encoding='utf-8', input='content',\n",
       "        lowercase=True, max_df=0.5, max_features=None, min_df=1,\n",
       "        ngram_range=(1, 3), norm='l2', preprocessor=None, smooth_idf=Tru...',\n",
       "          random_state=None, solver='lbfgs', tol=0.0001, verbose=0,\n",
       "          warm_start=False))])"
      ]
     },
     "execution_count": 15,
     "metadata": {},
     "output_type": "execute_result"
    }
   ],
   "source": [
    "from sklearn.feature_extraction.text import CountVectorizer, TfidfVectorizer\n",
    "\n",
    "from sklearn.dummy import DummyClassifier\n",
    "from sklearn.naive_bayes import GaussianNB\n",
    "from sklearn.ensemble import RandomForestClassifier\n",
    "from sklearn.linear_model import LogisticRegression\n",
    "from sklearn.decomposition import TruncatedSVD\n",
    "from sklearn.model_selection import StratifiedShuffleSplit, cross_val_score\n",
    "from sklearn.pipeline import Pipeline\n",
    "from sklearn.model_selection import StratifiedShuffleSplit, cross_val_score\n",
    "\n",
    "from nltk.corpus import stopwords\n",
    "from nltk.stem.snowball import DutchStemmer\n",
    "\n",
    "stemmer = DutchStemmer()\n",
    "def tokenize(text):\n",
    "    \"\"\"Converts text to tokens.\"\"\"\n",
    "    tokens = word_tokenize(text, language='dutch')\n",
    "    stemmed = []\n",
    "    for item in tokens:\n",
    "        stemmed.append(stemmer.stem(item))\n",
    "    return stemmed\n",
    "\n",
    "n_topics = 100\n",
    "\n",
    "preproc_steps = [('vectorizer', TfidfVectorizer(input='content', encoding='utf-8',\n",
    "                                                decode_error='strict', strip_accents=None,\n",
    "                                                lowercase=True, preprocessor=None, tokenizer=tokenize,\n",
    "                                                analyzer='word', stop_words=stopwords.words('dutch'), \n",
    "                                                ngram_range=(1, 3), max_df=0.5, min_df=1, max_features=None,\n",
    "                                                vocabulary=None, binary=False, dtype=np.int64,\n",
    "                                                norm='l2', use_idf=True, smooth_idf=True, sublinear_tf=False)),\n",
    "                 \n",
    "                 ('topic_model', TruncatedSVD(n_components=n_topics, algorithm='randomized', n_iter=10, random_state=12, tol=0.0))]\n",
    "\n",
    "# balanced priors for Naive Bayes\n",
    "equal_priors = np.ones(n_parties) /  np.float64(n_parties)\n",
    "equal_priors[0] = equal_priors[0] + (1 - equal_priors.sum())\n",
    "\n",
    "# specification of different model types and their defaults\n",
    "model_steps_dict = {'nb': [('nb', GaussianNB(priors=equal_priors))],\n",
    "                    'rf': [('rf', RandomForestClassifier(n_estimators=100, class_weight='balanced', random_state=32))],\n",
    "                    'lr': [('lr', LogisticRegression(multi_class='multinomial', class_weight='balanced', solver='lbfgs'))],\n",
    "                   'dummy': [('dummy', DummyClassifier(strategy='prior', random_state=11))]}\n",
    "\n",
    "# extract data from data frame\n",
    "X = df['text'].values \n",
    "y = np.array(df['party'])\n",
    "\n",
    "evaluate = True\n",
    "if evaluate:\n",
    "    cv = StratifiedShuffleSplit(n_splits=3, test_size=0.1, random_state=1)  # note that stratification doesnt work with native multiclass\n",
    "    for model_type in model_steps_dict.keys():\n",
    "        model_steps = model_steps_dict[model_type]\n",
    "        estimator = Pipeline(steps=(preproc_steps + model_steps))\n",
    "        scores = cross_val_score(estimator, X, y, cv=cv)\n",
    "        print \"Average {:s} classifier score: {:.4f} \".format(model_type, np.mean(scores))\n",
    "\n",
    "# fit on whole data set\n",
    "model_steps = model_steps_dict['lr']\n",
    "estimator = Pipeline(steps=(preproc_steps + model_steps))\n",
    "estimator.fit(X, y)\n",
    "estimator"
   ]
  },
  {
   "cell_type": "code",
   "execution_count": 17,
   "metadata": {
    "collapsed": false
   },
   "outputs": [
    {
     "data": {
      "image/png": "[encoded data removed]",
      "text/plain": [
       "<matplotlib.figure.Figure at 0x7f1407165810>"
      ]
     },
     "metadata": {},
     "output_type": "display_data"
    }
   ],
   "source": [
    "import matplotlib.pyplot as plt\n",
    "import seaborn as sns\n",
    "%matplotlib inline\n",
    "\n",
    "def plot_predictions(results):\n",
    "    figsize=(12, .5 * len(results))\n",
    "    fig, ax = plt.subplots(figsize=figsize)   \n",
    "    sns.heatmap(results, ax=ax)\n",
    "    ax.set_ylabel('')\n",
    "    \n",
    "def classify_text(estimator, texts, norm=None):\n",
    "    pred_proba = estimator.predict_proba(texts)\n",
    "    capped_texts = map(lambda x: x[:40] + '...', texts)\n",
    "    results = pd.DataFrame(pred_proba, columns=[party_labels], index=capped_texts)\n",
    "    if norm=='rank':\n",
    "        results = results.rank(axis=1, ascending=True)\n",
    "    if norm=='top3':\n",
    "        results = results.rank(axis=1, ascending=True).applymap(lambda x: n_parties-3 if x<=(n_parties-3) else x)\n",
    "    plot_predictions(results)\n",
    "\n",
    "texts = ['veiligheid immigratie islam terrorisme',\n",
    "         'economie bedrijven belastingen omlaag werkgelegenheid',\n",
    "         'investeren in zorg, ouderen, pensioenen, pensioensleeftijd terug',\n",
    "         'milieu duurzaamheid klimaat energie',\n",
    "         'gezin centraal, christelijke samenleving, landbouw subsidies',\n",
    "         'ik vind belasting niet leuk, daarom minder belasting, ik wil ook graag goedkoop auto rijden, bovendien moet werken lonen',\n",
    "         'kilometerheffing invoeren, openbaar vervoer stimuleren, natuur beschermen']\n",
    "\n",
    "classify_text(estimator, texts, norm='top3')"
   ]
  },
  {
   "cell_type": "code",
   "execution_count": 77,
   "metadata": {
    "collapsed": false
   },
   "outputs": [],
   "source": [
    "# function for multilabel format\n",
    "def extract_probas(pred_proba):\n",
    "    return np.array(map(lambda x1: map(lambda x2: x2[1], x1), pred_proba)).transpose()"
   ]
  },
  {
   "cell_type": "code",
   "execution_count": null,
   "metadata": {
    "collapsed": true
   },
   "outputs": [],
   "source": []
  }
 ],
 "metadata": {
  "kernelspec": {
   "display_name": "Python [data-science]",
   "language": "python",
   "name": "Python [data-science]"
  },
  "language_info": {
   "codemirror_mode": {
    "name": "ipython",
    "version": 2
   },
   "file_extension": ".py",
   "mimetype": "text/x-python",
   "name": "python",
   "nbconvert_exporter": "python",
   "pygments_lexer": "ipython2",
   "version": "2.7.12"
  }
 },
 "nbformat": 4,
 "nbformat_minor": 0
}
