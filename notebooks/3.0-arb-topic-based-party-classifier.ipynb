{
 "cells": [
  {
   "cell_type": "code",
   "execution_count": null,
   "metadata": {
    "collapsed": true
   },
   "outputs": [],
   "source": [
    "import sys\n",
    "sys.path.append('../')\n",
    "import pandas as pd\n",
    "import numpy as np"
   ]
  },
  {
   "cell_type": "markdown",
   "metadata": {},
   "source": [
    "## Load data\n",
    "Preprocess to chunks"
   ]
  },
  {
   "cell_type": "code",
   "execution_count": null,
   "metadata": {
    "collapsed": false
   },
   "outputs": [],
   "source": [
    "import json\n",
    "from nltk import word_tokenize\n",
    "\n",
    "with open('../data/partijen-metadata.json', 'r') as f:\n",
    "     meta = json.load(f)\n",
    "\n",
    "party_dict = {}\n",
    "for party_data in meta['partijen']:\n",
    "    party_id = party_data['lijst']\n",
    "    party_name = party_data['naam'].encode('utf-8')\n",
    "    party_dict[\"{:02d}\".format(party_id)] = party_name\n",
    "    \n",
    "raw = pd.read_csv('../data/processed/dataframe.csv') \n",
    "raw['file'] = raw['file'].replace(to_replace=party_dict, regex=True).apply(lambda x: x.split('-')[1])\n",
    "raw.rename(columns={'file': 'party'}, inplace=True)\n",
    "\n",
    "party_labels = raw['party']\n",
    "n_parties = len(party_labels)\n",
    "\n",
    "def chunk_string(string, chunk_size=1000, overlap=0):\n",
    "    return [string[i:i+chunk_size-overlap+1] for i in xrange(0,len(string), chunk_size-overlap)]\n",
    "   # return [string[0+i:length+i] for i in range(0, len(string), length)]\n",
    "\n",
    "df = raw['text'].apply(lambda x: pd.Series(chunk_string(x, chunk_size=600, overlap=0))).stack().reset_index()\n",
    "df.rename(columns={0: 'text', 'level_0': 'party', 'level_1': 'snippet'}, inplace=True)\n",
    "\n",
    "print \"{:d} text snippets\".format(len(df))\n",
    "print \"{:d} charachters in corpus\".format(df['text'].apply(len).sum())\n",
    "print \"{:d} words in corpus\".format(df['text'].apply(lambda x: word_tokenize(x, language='dutch')).apply(len).sum())\n",
    "df.head()"
   ]
  },
  {
   "cell_type": "code",
   "execution_count": null,
   "metadata": {
    "collapsed": false
   },
   "outputs": [],
   "source": [
    "from sklearn.feature_extraction.text import CountVectorizer, TfidfVectorizer\n",
    "\n",
    "from sklearn.dummy import DummyClassifier\n",
    "from sklearn.naive_bayes import GaussianNB\n",
    "from sklearn.ensemble import RandomForestClassifier\n",
    "from sklearn.linear_model import LogisticRegression\n",
    "from sklearn.tree import DecisionTreeClassifier\n",
    "\n",
    "from sklearn.decomposition import TruncatedSVD\n",
    "from sklearn.model_selection import StratifiedShuffleSplit, cross_val_score\n",
    "from sklearn.metrics import make_scorer, label_ranking_average_precision_score\n",
    "from sklearn.pipeline import Pipeline\n",
    "from sklearn.preprocessing import OneHotEncoder\n",
    "\n",
    "from nltk.corpus import stopwords\n",
    "from nltk.stem.snowball import DutchStemmer\n",
    "\n",
    "stemmer = DutchStemmer()\n",
    "def tokenize(text):\n",
    "    \"\"\"Converts text to tokens.\"\"\"\n",
    "    tokens = word_tokenize(text, language='dutch')\n",
    "    tokens = filter(lambda x: len(x) > 1, tokens)\n",
    "    stemmed = []\n",
    "    for item in tokens:\n",
    "        stemmed.append(stemmer.stem(item))\n",
    "    return stemmed\n",
    "\n",
    "n_topics = 100\n",
    "\n",
    "preproc_steps = [('vectorizer', TfidfVectorizer(input='content', encoding='utf-8',\n",
    "                                                decode_error='strict', strip_accents='unicode',\n",
    "                                                lowercase=True, preprocessor=None, tokenizer=tokenize,\n",
    "                                                analyzer='word', stop_words=stopwords.words('dutch'), \n",
    "                                                ngram_range=(1, 3), max_df=0.5, min_df=1, max_features=None,\n",
    "                                                vocabulary=None, binary=False, dtype=np.int64,\n",
    "                                                norm='l2', use_idf=True, smooth_idf=True, sublinear_tf=False)),\n",
    "                 \n",
    "                 ('topic_model', TruncatedSVD(n_components=n_topics, algorithm='arpack', n_iter=10, random_state=12, tol=0.0))]\n",
    "\n",
    "# balanced priors for Naive Bayes\n",
    "equal_priors = np.ones(n_parties) /  np.float64(n_parties)\n",
    "equal_priors[0] = equal_priors[0] + (1 - equal_priors.sum())\n",
    "\n",
    "# specification of different model types and their defaults\n",
    "model_steps_dict = {'nb': [('nb', GaussianNB(priors=equal_priors))],\n",
    "                    'rf': [('rf', RandomForestClassifier(n_estimators=100, class_weight='balanced', random_state=32))],\n",
    "                    'lr': [('lr', LogisticRegression(multi_class='multinomial', class_weight='balanced', solver='lbfgs'))],\n",
    "                    'tree': [('tree', DecisionTreeClassifier(class_weight='balanced', random_state=32, max_depth=10))],\n",
    "                   'dummy': [('dummy', DummyClassifier(strategy='prior', random_state=11))]}\n",
    "\n",
    "# extract data from data frame\n",
    "X = df['text'].values \n",
    "y = np.array(df['party'])\n",
    "encoder = OneHotEncoder(sparse=False).fit(y.reshape(-1, 1))\n",
    "\n",
    "def build_estimator(model_type):\n",
    "    model_steps = model_steps_dict[model_type]\n",
    "    estimator = Pipeline(steps=(preproc_steps + model_steps))\n",
    "    return estimator\n",
    "\n",
    "def ranking_score(y_true, y_score):\n",
    "    if len(y_score) == 1:\n",
    "        y_score = y_score[0]\n",
    "    return label_ranking_average_precision_score(encoder.transform(y_true.reshape(-1, 1)), y_score)\n",
    "    \n",
    "evaluate = True\n",
    "if evaluate:\n",
    "    scorer = make_scorer(ranking_score, needs_proba=True)\n",
    "    cv = StratifiedShuffleSplit(n_splits=3, test_size=0.1, random_state=1)\n",
    "    for model_type in ['dummy', 'rf', 'lr', 'nb']: # model_steps_dict.keys():\n",
    "        estimator = build_estimator(model_type)\n",
    "        scores = cross_val_score(estimator, X, y, cv=cv, scoring=scorer)\n",
    "        print \"Average {:s} classifier ranking score: {:.4f} \".format(model_type, np.mean(scores))"
   ]
  },
  {
   "cell_type": "code",
   "execution_count": null,
   "metadata": {
    "collapsed": false
   },
   "outputs": [],
   "source": [
    "# fit on whole data set\n",
    "model_type = 'lr'\n",
    "estimator = build_estimator(model_type)\n",
    "estimator.fit(X, y)\n",
    "estimator"
   ]
  },
  {
   "cell_type": "code",
   "execution_count": null,
   "metadata": {
    "collapsed": false
   },
   "outputs": [],
   "source": [
    "import matplotlib.pyplot as plt\n",
    "import seaborn as sns\n",
    "%matplotlib inline\n",
    "\n",
    "def plot_predictions(results):\n",
    "    figsize=(12, .5 * len(results))\n",
    "    fig, ax = plt.subplots(figsize=figsize)   \n",
    "    sns.heatmap(results, ax=ax)\n",
    "    ax.set_ylabel('')\n",
    "    \n",
    "def classify_text(estimator, texts, norm=None):\n",
    "    pred_proba = estimator.predict_proba(texts)\n",
    "    capped_texts = map(lambda x: x[:40] + '...', texts)\n",
    "    results = pd.DataFrame(pred_proba, columns=[party_labels], index=capped_texts)\n",
    "    if norm == 'rank':\n",
    "        results = results.rank(axis=1, ascending=True)\n",
    "    if norm == 'range':\n",
    "        results = results.apply(lambda x: (x - x.min()) / (x.max() - x.min()), axis=0)\n",
    "    if norm == 'top3':\n",
    "        results = results.rank(axis=1, ascending=True).applymap(lambda x: (n_parties - 3) if x <= (n_parties - 3) else x)\n",
    "    plot_predictions(results)\n",
    "\n",
    "texts = ['test', 'test']\n",
    "\n",
    "classify_text(estimator, texts, norm='range')"
   ]
  },
  {
   "cell_type": "code",
   "execution_count": null,
   "metadata": {
    "collapsed": false
   },
   "outputs": [],
   "source": [
    "text = [raw_input(prompt='Wat vind jij belangrijk?\\n')]\n",
    "\n",
    "classify_text(estimator, text, norm=None)"
   ]
  },
  {
   "cell_type": "code",
   "execution_count": null,
   "metadata": {
    "collapsed": true
   },
   "outputs": [],
   "source": []
  }
 ],
 "metadata": {
  "kernelspec": {
   "display_name": "Python [data-science]",
   "language": "python",
   "name": "Python [data-science]"
  },
  "language_info": {
   "codemirror_mode": {
    "name": "ipython",
    "version": 2
   },
   "file_extension": ".py",
   "mimetype": "text/x-python",
   "name": "python",
   "nbconvert_exporter": "python",
   "pygments_lexer": "ipython2",
   "version": "2.7.12"
  }
 },
 "nbformat": 4,
 "nbformat_minor": 0
}
