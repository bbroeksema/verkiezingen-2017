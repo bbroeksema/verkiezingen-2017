{
 "cells": [
  {
   "cell_type": "code",
   "execution_count": 1,
   "metadata": {
    "collapsed": true
   },
   "outputs": [],
   "source": [
    "import sys\n",
    "sys.path.append('../')\n",
    "import pandas as pd\n",
    "import numpy as np\n",
    "\n",
    "from sklearn.externals import joblib"
   ]
  },
  {
   "cell_type": "code",
   "execution_count": 2,
   "metadata": {
    "collapsed": false
   },
   "outputs": [
    {
     "name": "stdout",
     "output_type": "stream",
     "text": [
      "4897 text snippets\n"
     ]
    },
    {
     "data": {
      "text/html": [
       "<div>\n",
       "<table border=\"1\" class=\"dataframe\">\n",
       "  <thead>\n",
       "    <tr style=\"text-align: right;\">\n",
       "      <th></th>\n",
       "      <th>party</th>\n",
       "      <th>snippet</th>\n",
       "      <th>text</th>\n",
       "    </tr>\n",
       "  </thead>\n",
       "  <tbody>\n",
       "    <tr>\n",
       "      <th>0</th>\n",
       "      <td>0</td>\n",
       "      <td>0</td>\n",
       "      <td>n e d n o b r e v n ee g n i v e l sa m e n ve...</td>\n",
       "    </tr>\n",
       "    <tr>\n",
       "      <th>1</th>\n",
       "      <td>0</td>\n",
       "      <td>1</td>\n",
       "      <td>twerp  paul pollmann   inhoudsopgave essay  ee...</td>\n",
       "    </tr>\n",
       "    <tr>\n",
       "      <th>2</th>\n",
       "      <td>0</td>\n",
       "      <td>2</td>\n",
       "      <td>rismebestrijding privacy justitie en rechtstaa...</td>\n",
       "    </tr>\n",
       "    <tr>\n",
       "      <th>3</th>\n",
       "      <td>0</td>\n",
       "      <td>3</td>\n",
       "      <td>ing werk en gezin pensioenen werkende ouderen ...</td>\n",
       "    </tr>\n",
       "    <tr>\n",
       "      <th>4</th>\n",
       "      <td>0</td>\n",
       "      <td>4</td>\n",
       "      <td>iedereen publieke waarden centraal  van marktw...</td>\n",
       "    </tr>\n",
       "  </tbody>\n",
       "</table>\n",
       "</div>"
      ],
      "text/plain": [
       "   party  snippet                                               text\n",
       "0      0        0  n e d n o b r e v n ee g n i v e l sa m e n ve...\n",
       "1      0        1  twerp  paul pollmann   inhoudsopgave essay  ee...\n",
       "2      0        2  rismebestrijding privacy justitie en rechtstaa...\n",
       "3      0        3  ing werk en gezin pensioenen werkende ouderen ...\n",
       "4      0        4  iedereen publieke waarden centraal  van marktw..."
      ]
     },
     "execution_count": 2,
     "metadata": {},
     "output_type": "execute_result"
    }
   ],
   "source": [
    "import json\n",
    "\n",
    "with open('../data/partijen-metadata.json', 'r') as f:\n",
    "     meta = json.load(f)\n",
    "\n",
    "party_dict = {}\n",
    "for party_data in meta['partijen']:\n",
    "    party_id = party_data['lijst']\n",
    "    party_name = party_data['naam'].encode('utf-8')\n",
    "    party_dict[\"{:02d}\".format(party_id)] = party_name\n",
    "    \n",
    "raw = pd.read_csv('../data/processed/dataframe.csv') \n",
    "raw['file'] = raw['file'].replace(to_replace=party_dict, regex=True).apply(lambda x: x.split('-')[1])\n",
    "raw.rename(columns={'file': 'party'}, inplace=True)\n",
    "\n",
    "party_labels = raw['party']\n",
    "n_parties = len(party_labels)\n",
    "\n",
    "def chunk_string(string, length):\n",
    "    return [string[0+i:length+i] for i in range(0, len(string), length)]\n",
    "\n",
    "df = raw['text'].apply(lambda x: pd.Series(chunk_string(x, length=600))).stack().reset_index()\n",
    "df.rename(columns={0: 'text', 'level_0': 'party', 'level_1': 'snippet'}, inplace=True)\n",
    "\n",
    "print \"{:d} text snippets\".format(len(df))\n",
    "df.head()"
   ]
  },
  {
   "cell_type": "markdown",
   "metadata": {},
   "source": [
    "Probably lots of party-specific words in these snippets (e.g. title footers parsed from PDF), so we can only play with some naive multiclass classifiers before we fix this (e.g. Naive Bayes, kNN)."
   ]
  },
  {
   "cell_type": "code",
   "execution_count": 21,
   "metadata": {
    "collapsed": false
   },
   "outputs": [
    {
     "name": "stdout",
     "output_type": "stream",
     "text": [
      "Average baseline score: 0.1388 \n",
      "Average model score: 0.6714 \n"
     ]
    },
    {
     "data": {
      "text/plain": [
       "Pipeline(steps=[('countvectorizer', CountVectorizer(analyzer='word', binary=False, decode_error='strict',\n",
       "        dtype=<type 'numpy.int64'>, encoding='utf-8', input=u'content',\n",
       "        lowercase=True, max_df=0.1, max_features=10000, min_df=2,\n",
       "        ngram_range=(1, 2), preprocessor=None,\n",
       "        stop_words...04348,  0.04348,\n",
       "        0.04348,  0.04348,  0.04348,  0.04348,  0.04348]),\n",
       "       fit_prior=True))])"
      ]
     },
     "execution_count": 21,
     "metadata": {},
     "output_type": "execute_result"
    }
   ],
   "source": [
    "from sklearn.feature_extraction.text import CountVectorizer\n",
    "\n",
    "from sklearn.dummy import DummyClassifier\n",
    "from sklearn.naive_bayes import BernoulliNB, MultinomialNB\n",
    "#from sklearn.multiclass import OneVsRestClassifier\n",
    "\n",
    "from sklearn.model_selection import StratifiedShuffleSplit, cross_val_score\n",
    "from sklearn.pipeline import make_pipeline\n",
    "\n",
    "from nltk.corpus import stopwords\n",
    "from nltk.stem.snowball import DutchStemmer\n",
    "from nltk import word_tokenize\n",
    "\n",
    "stemmer = DutchStemmer()\n",
    "def tokenize(text):\n",
    "    \"\"\"Converts text to tokens.\"\"\"\n",
    "    tokens = word_tokenize(text)\n",
    "    stemmed = []\n",
    "    for item in tokens:\n",
    "        stemmed.append(stemmer.stem(item))\n",
    "    return stemmed\n",
    "\n",
    "vectorizer = CountVectorizer(encoding='utf-8', decode_error='strict',\n",
    "                 strip_accents=None, lowercase=True, preprocessor=None,\n",
    "                 tokenizer=tokenize, stop_words=stopwords.words('dutch'),\n",
    "                 ngram_range=(1, 2), analyzer='word', max_df=0.1, min_df=2, max_features=10000,\n",
    "                 vocabulary=None, binary=False, dtype=np.int64)\n",
    "\n",
    "# cross-validation\n",
    "cv = StratifiedShuffleSplit(n_splits=3, test_size=0.1, random_state=1)  # note that stratification doesnt work with native multiclass\n",
    "\n",
    "# extract data from data frame\n",
    "X = df['text'].values \n",
    "#y = np.array(pd.get_dummies(df['party']))  # format for OneVsRestClassifier\n",
    "y = np.array(df['party'])\n",
    "\n",
    "# baseline\n",
    "baseline_estimator = make_pipeline(vectorizer, DummyClassifier(strategy='prior', random_state=1))\n",
    "\n",
    "scores = cross_val_score(baseline_estimator, X, y, cv=cv)\n",
    "print \"Average baseline score: {:.4f} \".format(np.mean(scores))\n",
    "\n",
    "# model\n",
    "equal_priors = np.ones(n_parties) * 1. / n_parties\n",
    "estimator = make_pipeline(vectorizer, MultinomialNB(class_prior=equal_priors))  # force equal priors for more fair predictions\n",
    "\n",
    "scores = cross_val_score(estimator, X, y, cv=cv)\n",
    "print \"Average model score: {:.4f} \".format(np.mean(scores))\n",
    "\n",
    "# fit on whole data set\n",
    "estimator.fit(X, y)\n",
    "estimator"
   ]
  },
  {
   "cell_type": "code",
   "execution_count": 26,
   "metadata": {
    "collapsed": false
   },
   "outputs": [],
   "source": [
    "model_filename = '../models/party_classifier.pkl'\n",
    "\n",
    "# save model\n",
    "# joblib.dump(estimator, model_filename) \n",
    "\n",
    "# load model\n",
    "# estimator = joblib.load(model_filename) "
   ]
  },
  {
   "cell_type": "code",
   "execution_count": 27,
   "metadata": {
    "collapsed": false
   },
   "outputs": [
    {
     "data": {
      "image/png": "[encoded data removed]",
      "text/plain": [
       "<matplotlib.figure.Figure at 0x7f259361ecd0>"
      ]
     },
     "metadata": {},
     "output_type": "display_data"
    }
   ],
   "source": [
    "import matplotlib.pyplot as plt\n",
    "import seaborn as sns\n",
    "%matplotlib inline\n",
    "\n",
    "def plot_predictions(results):\n",
    "    figsize=(12, .5 * len(results))\n",
    "    fig, ax = plt.subplots(figsize=figsize)   \n",
    "    sns.heatmap(results, ax=ax)\n",
    "    ax.set_ylabel('')\n",
    "    \n",
    "def classify_text(estimator, texts):\n",
    "    pred_proba = estimator.predict_proba(texts)\n",
    "    capped_texts = map(lambda x: x[:40] + '...', texts)\n",
    "    results = pd.DataFrame(pred_proba, columns=[party_labels], index=capped_texts)\n",
    "    plot_predictions(results)\n",
    "\n",
    "texts = ['veiligheid immigratie islam terrorisme',\n",
    "         'economie bedrijven belastingen werkgelegenheid',\n",
    "         'zorg ouderen pensioenen, pensioensleeftijd',\n",
    "         'milieu duurzaamheid klimaat energie',\n",
    "         'gezin samenleving christelijk landbouw',\n",
    "         'ik vind belasting niet leuk, daarom minder belasting',\n",
    "         'mileubelasting kilometerheffing openbaar vervoer natuur']\n",
    "\n",
    "classify_text(estimator, texts)"
   ]
  },
  {
   "cell_type": "code",
   "execution_count": null,
   "metadata": {
    "collapsed": true
   },
   "outputs": [],
   "source": []
  }
 ],
 "metadata": {
  "kernelspec": {
   "display_name": "Python [data-science]",
   "language": "python",
   "name": "Python [data-science]"
  },
  "language_info": {
   "codemirror_mode": {
    "name": "ipython",
    "version": 2
   },
   "file_extension": ".py",
   "mimetype": "text/x-python",
   "name": "python",
   "nbconvert_exporter": "python",
   "pygments_lexer": "ipython2",
   "version": "2.7.12"
  }
 },
 "nbformat": 4,
 "nbformat_minor": 0
}
